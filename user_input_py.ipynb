{
  "nbformat": 4,
  "nbformat_minor": 0,
  "metadata": {
    "colab": {
      "provenance": [],
      "toc_visible": true,
      "authorship_tag": "ABX9TyOdW9fY5XfBJO4yrCNrhl4D",
      "include_colab_link": true
    },
    "kernelspec": {
      "name": "python3",
      "display_name": "Python 3"
    },
    "language_info": {
      "name": "python"
    }
  },
  "cells": [
    {
      "cell_type": "markdown",
      "metadata": {
        "id": "view-in-github",
        "colab_type": "text"
      },
      "source": [
        "<a href=\"https://colab.research.google.com/github/MUSYOKIPeter/PLP-Python-Programming/blob/master/user_input_py.ipynb\" target=\"_parent\"><img src=\"https://colab.research.google.com/assets/colab-badge.svg\" alt=\"Open In Colab\"/></a>"
      ]
    },
    {
      "cell_type": "code",
      "execution_count": 3,
      "metadata": {
        "colab": {
          "base_uri": "https://localhost:8080/"
        },
        "id": "WuJYh-wopJdC",
        "outputId": "9ad0c6a7-73fe-480b-e660-a34b1e9bc71f"
      },
      "outputs": [
        {
          "output_type": "stream",
          "name": "stdout",
          "text": [
            "What is your name? MUSYOKI Peter\n",
            "How old are you? 33 years\n",
            "Where are you located? Nairobi, Kenya\n",
            "Hello MUSYOKI Peter, you are 33 years years old and live in Nairobi, Kenya.\n"
          ]
        }
      ],
      "source": [
        "# Ask the user for their name and store it in a variable called \"name\"\n",
        "name = input(\"What is your name? \")\n",
        "\n",
        "# Ask the user for their age and store it in a variable called \"age\"\n",
        "age = input(\"How old are you? \")\n",
        "\n",
        "# Ask the user for their location and store it in a variable called \"location\"\n",
        "location = input(\"Where are you located? \")\n",
        "\n",
        "# Print out a personalized message using the user's name, age, and location\n",
        "print(\"Hello \" + name + \", you are \" + age + \" years old and live in \" + location + \".\")\n"
      ]
    }
  ]
}